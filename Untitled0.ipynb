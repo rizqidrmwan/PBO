{
  "nbformat": 4,
  "nbformat_minor": 0,
  "metadata": {
    "colab": {
      "provenance": [],
      "authorship_tag": "ABX9TyMk6OcjyEODL47O7B5jmvlX",
      "include_colab_link": true
    },
    "kernelspec": {
      "name": "python3",
      "display_name": "Python 3"
    },
    "language_info": {
      "name": "python"
    }
  },
  "cells": [
    {
      "cell_type": "markdown",
      "metadata": {
        "id": "view-in-github",
        "colab_type": "text"
      },
      "source": [
        "<a href=\"https://colab.research.google.com/github/rizqidrmwan/PBO/blob/master/Untitled0.ipynb\" target=\"_parent\"><img src=\"https://colab.research.google.com/assets/colab-badge.svg\" alt=\"Open In Colab\"/></a>"
      ]
    },
    {
      "cell_type": "code",
      "execution_count": 4,
      "metadata": {
        "id": "vclTBXESHldX"
      },
      "outputs": [],
      "source": [
        "import statistics"
      ]
    },
    {
      "cell_type": "code",
      "source": [
        "data =[80,85,78,90,88,80,85,80,85,90,85,90,85,80,80,87,85,80,90,90,90,87,80,75,80 ]"
      ],
      "metadata": {
        "id": "C9Htdfc-Hq6R"
      },
      "execution_count": 16,
      "outputs": []
    },
    {
      "cell_type": "code",
      "source": [
        "rata = statistics.mean(data)\n",
        "\n",
        "array=[]\n",
        "for bilangan in data:\n",
        "  array.append(abs(bilangan-rata))\n",
        "sr = sum(array)/len(data)\n",
        "\n",
        "print(\"mean : %s\"%(statistics.mean(data)))\n",
        "print(\"varian : %s\"%(statistics.variance(data)))\n",
        "print(\"standar deviasi : %s\"%(statistics.stdev(data)))\n",
        "print(f'deviasi rata : {sr}')\n"
      ],
      "metadata": {
        "colab": {
          "base_uri": "https://localhost:8080/"
        },
        "id": "JGB6XXLQH5u4",
        "outputId": "4b52c5f2-64ef-4e24-f965-534665b52685"
      },
      "execution_count": 18,
      "outputs": [
        {
          "output_type": "stream",
          "name": "stdout",
          "text": [
            "mean : 84.2\n",
            "varian : 20.833333333333332\n",
            "standar deviasi : 4.564354645876384\n",
            "deviasi rata : 3.9199999999999995\n"
          ]
        }
      ]
    }
  ]
}