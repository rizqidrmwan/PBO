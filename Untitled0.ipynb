{
  "nbformat": 4,
  "nbformat_minor": 0,
  "metadata": {
    "colab": {
      "provenance": [],
      "authorship_tag": "ABX9TyM6VEo8Za7cXSfvBDxlveye",
      "include_colab_link": true
    },
    "kernelspec": {
      "name": "python3",
      "display_name": "Python 3"
    },
    "language_info": {
      "name": "python"
    }
  },
  "cells": [
    {
      "cell_type": "markdown",
      "metadata": {
        "id": "view-in-github",
        "colab_type": "text"
      },
      "source": [
        "<a href=\"https://colab.research.google.com/github/rizqidrmwan/PBO/blob/master/Untitled0.ipynb\" target=\"_parent\"><img src=\"https://colab.research.google.com/assets/colab-badge.svg\" alt=\"Open In Colab\"/></a>"
      ]
    },
    {
      "cell_type": "code",
      "execution_count": 1,
      "metadata": {
        "id": "vclTBXESHldX"
      },
      "outputs": [],
      "source": [
        "import statistics"
      ]
    },
    {
      "cell_type": "code",
      "source": [
        "data1 =[70,77,69,65,70,75,60,70,70,65,70,60,65,70,65,80,77,70,60,65,60,85,65,70,65,80,77,69,65,70 ]\n",
        "data2 =[85,87,85,80,78,78,80,80,85,75,80,80,88,80,80,83,80,85,80,77,80,88,88,80,80,83,80,85,80,78 ]\n",
        "data3 =[90,95,88,85,87,87,85,90,88,85,85,87,90,88,90,90,89,87,88,88,85,90,90,88,90,90,89,88,85,87 ]"
      ],
      "metadata": {
        "id": "C9Htdfc-Hq6R"
      },
      "execution_count": 2,
      "outputs": []
    },
    {
      "cell_type": "code",
      "source": [
        "rata1=statistics.mean(data1)\n",
        "rata2=statistics.mean(data2)\n",
        "rata3=statistics.mean(data3)"
      ],
      "metadata": {
        "id": "JGB6XXLQH5u4"
      },
      "execution_count": 5,
      "outputs": []
    },
    {
      "cell_type": "code",
      "source": [
        "from IPython.utils.text import list_strings\n",
        "list_varian = []\n",
        "for i in data1:\n",
        "  list_varian.append(\n",
        "      (i - rata1)**2\n",
        "  )\n",
        "  varian1 = sum(list_varian)/(len(data1)-1)\n",
        "\n",
        "for i in data2:\n",
        "  list_varian.append(\n",
        "      (i - rata1)**2\n",
        "  )\n",
        "  varian2 = sum(list_varian)/(len(data2)-1)\n",
        "\n",
        "for i in data1:\n",
        "  list_varian.append(\n",
        "      (i - rata3)**2\n",
        "  )\n",
        "  varian3 = sum(list_varian)/(len(data3)-1)\n",
        "\n",
        "print(f'Variansi Hari ke-1 = {varian1}')\n",
        "print(f'Variansi Hari ke-2 = {varian2}')\n",
        "print(f'Variansi Hari ke-3 = {varian3}')\n",
        "print(\"\")\n",
        "\n",
        "standardeviasi1 = statistics.stdev(data1)\n",
        "standardeviasi2 = statistics.stdev(data2)\n",
        "standardeviasi3 = statistics.stdev(data3)\n",
        "\n",
        "print(f'Standar Deviasi Hari ke-1 = {standardeviasi1}')\n",
        "print(\"\")\n",
        "print(f'Standar Deviasi Hari ke-2 = {standardeviasi2}')\n",
        "print(\"\")\n",
        "print(f'Standar Deviasi Hari ke-3 = {standardeviasi3}')\n",
        "print(\"\")"
      ],
      "metadata": {
        "colab": {
          "base_uri": "https://localhost:8080/"
        },
        "id": "WYP1tgsLV3Vu",
        "outputId": "0bbedd6c-6f15-4274-852e-a31e91d46a08"
      },
      "execution_count": 6,
      "outputs": [
        {
          "output_type": "stream",
          "name": "stdout",
          "text": [
            "Variansi Hari ke-1 = 40.837931034482764\n",
            "Variansi Hari ke-2 = 209.52413793103457\n",
            "Variansi Hari ke-3 = 617.2873563218394\n",
            "\n",
            "Standar Deviasi Hari ke-1 = 6.390456246191093\n",
            "\n",
            "Standar Deviasi Hari ke-2 = 3.489886867052797\n",
            "\n",
            "Standar Deviasi Hari ke-3 = 2.2396633572979194\n",
            "\n"
          ]
        }
      ]
    }
  ]
}